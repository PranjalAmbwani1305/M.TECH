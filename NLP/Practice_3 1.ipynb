{
 "cells": [
  {
   "cell_type": "code",
   "execution_count": 24,
   "id": "bfc1d532",
   "metadata": {},
   "outputs": [
    {
     "data": {
      "text/plain": [
       "True"
      ]
     },
     "execution_count": 24,
     "metadata": {},
     "output_type": "execute_result"
    }
   ],
   "source": [
    "# Given a year, determine whether it is a leap year. If it is a leap year, return the Boolean True, otherwise return False.\n",
    "def is_leap_year(n):\n",
    "    if(n%4 == 0 and n%100 != 0 or n%400 == 0):\n",
    "        return True\n",
    "    return False\n",
    "\n",
    "is_leap_year(2000)"
   ]
  },
  {
   "cell_type": "code",
   "execution_count": 33,
   "id": "ceb6d3ed",
   "metadata": {},
   "outputs": [
    {
     "name": "stdout",
     "output_type": "stream",
     "text": [
      "6\n",
      "-336\n"
     ]
    }
   ],
   "source": [
    "# Develop a python function to multiply all the numbers in a list\n",
    "def mul_list(arr):\n",
    "    p = 1\n",
    "    \n",
    "    for i in range(0, len(arr)):\n",
    "        p = p*arr[i]\n",
    "    return p\n",
    "\n",
    "print(mul_list([1,2,3]))\n",
    "print(mul_list([8, 2, 3, -1, 7]))"
   ]
  },
  {
   "cell_type": "code",
   "execution_count": 6,
   "id": "dfd3b12c",
   "metadata": {},
   "outputs": [
    {
     "data": {
      "text/plain": [
       "3"
      ]
     },
     "execution_count": 6,
     "metadata": {},
     "output_type": "execute_result"
    }
   ],
   "source": [
    "# Write a Python function to find the maximum of three numbers.\n",
    "def max_3(a, b, c):\n",
    "    \n",
    "    if(a>b):\n",
    "        if(a>c):\n",
    "            return a\n",
    "    elif(b>c):\n",
    "        return b\n",
    "    return c\n",
    "\n",
    "max_3(3, 1, 2)"
   ]
  },
  {
   "cell_type": "code",
   "execution_count": 7,
   "id": "e22e0288",
   "metadata": {},
   "outputs": [
    {
     "data": {
      "text/plain": [
       "120"
      ]
     },
     "execution_count": 7,
     "metadata": {},
     "output_type": "execute_result"
    }
   ],
   "source": [
    "# Define a function that returns Factorial of a number.\n",
    "def fact(n):\n",
    "    f = 1\n",
    "    for i in range(2, n+1):\n",
    "        f = f*i\n",
    "    return f\n",
    "\n",
    "fact(5)"
   ]
  },
  {
   "cell_type": "code",
   "execution_count": 9,
   "id": "5c30096a",
   "metadata": {},
   "outputs": [
    {
     "data": {
      "text/plain": [
       "'HELLO'"
      ]
     },
     "execution_count": 9,
     "metadata": {},
     "output_type": "execute_result"
    }
   ],
   "source": [
    "# Define a function that accepts lowercase words and returns uppercase words\n",
    "def Ucase(string):\n",
    "    return string.upper()\n",
    "\n",
    "Ucase(\"hello\")"
   ]
  },
  {
   "cell_type": "code",
   "execution_count": 21,
   "id": "c3aac8e1",
   "metadata": {},
   "outputs": [
    {
     "data": {
      "text/plain": [
       "21"
      ]
     },
     "execution_count": 21,
     "metadata": {},
     "output_type": "execute_result"
    }
   ],
   "source": [
    "# Define a function that returns Reverse of a number\n",
    "def reverse(n):\n",
    "    r = 0\n",
    "    \n",
    "    while(n>0):\n",
    "        r = r*10 + n%10\n",
    "        n = n//10\n",
    "    return r\n",
    "\n",
    "reverse(12)"
   ]
  },
  {
   "cell_type": "code",
   "execution_count": 18,
   "id": "1630b07f",
   "metadata": {},
   "outputs": [
    {
     "data": {
      "text/plain": [
       "True"
      ]
     },
     "execution_count": 18,
     "metadata": {},
     "output_type": "execute_result"
    }
   ],
   "source": [
    "# Write a Python function that checks whether a passed string is a palindrome or not.\n",
    "def pal(string):\n",
    "    if (string == string[::-1]):\n",
    "        return True\n",
    "    return False\n",
    "\n",
    "pal(\"ala\")"
   ]
  },
  {
   "cell_type": "code",
   "execution_count": 22,
   "id": "4f181bb1",
   "metadata": {},
   "outputs": [
    {
     "name": "stdout",
     "output_type": "stream",
     "text": [
      "1\n",
      "2\n",
      "3\n"
     ]
    }
   ],
   "source": [
    "# Write a Python function that accepts a list as a parameter\n",
    "def print_list(arr):\n",
    "    for i in range(0, len(arr)):\n",
    "        print(arr[i])\n",
    "\n",
    "print_list([1,2,3])"
   ]
  },
  {
   "cell_type": "code",
   "execution_count": 26,
   "id": "2b22d935",
   "metadata": {},
   "outputs": [
    {
     "data": {
      "text/plain": [
       "{'A': 2, 'B': 3}"
      ]
     },
     "execution_count": 26,
     "metadata": {},
     "output_type": "execute_result"
    }
   ],
   "source": [
    "# Write a Python function that accepts a list as a parameter\n",
    "def print_dict(d):\n",
    "    return d\n",
    "print_dict({\"A\":2, \"B\":3})"
   ]
  },
  {
   "cell_type": "code",
   "execution_count": 27,
   "id": "db292794",
   "metadata": {},
   "outputs": [
    {
     "name": "stdout",
     "output_type": "stream",
     "text": [
      "15\n"
     ]
    }
   ],
   "source": [
    "# What is the output of the following function call\n",
    "def outer_fun(a, b):\n",
    "   def inner_fun(c, d):\n",
    "       return c + d\n",
    " \n",
    "   return inner_fun(a, b)\n",
    "   return a\n",
    " \n",
    "result = outer_fun(5, 10)\n",
    "print(result)"
   ]
  },
  {
   "cell_type": "code",
   "execution_count": 38,
   "id": "d9356534",
   "metadata": {},
   "outputs": [
    {
     "name": "stdout",
     "output_type": "stream",
     "text": [
      "name\n",
      "age\n"
     ]
    }
   ],
   "source": [
    "# What is the output of the following display_person() function call\n",
    "def display_person(**kwargs):\n",
    "       for i in kwargs:\n",
    "               print(i)\n",
    " \n",
    "display_person(name=\"Emma\", age=\"25\")"
   ]
  },
  {
   "cell_type": "code",
   "execution_count": 31,
   "id": "a8a5cd3a",
   "metadata": {},
   "outputs": [
    {
     "name": "stdout",
     "output_type": "stream",
     "text": [
      "10\n",
      "20\n"
     ]
    }
   ],
   "source": [
    "# Write a code in python to demonstrate returning multiple values in python\n",
    "def fun():\n",
    "    return 10, 20\n",
    "\n",
    "a, b = fun()\n",
    "print(a)\n",
    "print(b)"
   ]
  }
 ],
 "metadata": {
  "kernelspec": {
   "display_name": "Python 3",
   "language": "python",
   "name": "python3"
  },
  "language_info": {
   "codemirror_mode": {
    "name": "ipython",
    "version": 3
   },
   "file_extension": ".py",
   "mimetype": "text/x-python",
   "name": "python",
   "nbconvert_exporter": "python",
   "pygments_lexer": "ipython3",
   "version": "3.8.8"
  }
 },
 "nbformat": 4,
 "nbformat_minor": 5
}
